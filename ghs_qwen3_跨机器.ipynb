{
 "cells": [
  {
   "cell_type": "code",
   "execution_count": 6,
   "id": "e468ee4f",
   "metadata": {},
   "outputs": [
    {
     "name": "stdout",
     "output_type": "stream",
     "text": [
      "response.choices[0].message.reasoning_content: \n",
      " \n",
      "嗯，用户问的是9.11和9.8哪个更大。首先，我需要确认这两个数字的比较方式。因为都是小数，所以应该直接比较它们的数值大小。不过可能用户有其他意图，比如这两个数字是否有特殊含义，或者是否涉及到不同的单位或情境？\n",
      "\n",
      "先不考虑其他因素，单纯从数值上看，9.11和9.8。小数点后的位数不同，9.11是两位小数，而9.8是一位小数。这时候，可能需要将它们转换为相同的小数位数来进行比较。比如，把9.8写成9.80，这样比较的话，9.11和9.80，显然9.80更大，因为十分位上8比1大。所以结论应该是9.8更大。\n",
      "\n",
      "不过，也有可能用户有其他的考虑，比如这两个数字是否代表日期或者其他数值，比如版本号、价格等。例如，9.11可能是某个软件的版本号，而9.8是另一个版本，这时候可能需要看版本号的比较方式。不过通常版本号比较是按数字逐位比较的，比如9.11和9.8，可能比较主要版本号9和9相同，然后次版本号11和8，这时候11比8大，所以9.11更大？不过这可能因具体情况而异，但通常版本号的比较方式可能不同，比如9.11可能被视为9.11，而9.8被视为9.8，这时候需要看具体规则。\n",
      "\n",
      "不过用户的问题没有给出上下文，所以可能应该按照普通的数值比较来处理。不过需要确认是否用户可能有其他意图。例如，在某些情况下，9.11和9.8可能代表不同的单位，比如9.11米和9.8米，这时候显然9.8米更长。但同样，用户的问题没有给出单位，所以可能默认都是同一单位。\n",
      "\n",
      "另外，可能用户输入有误，比如9.11是否是9.11还是9.11（比如9.11是9.11，而9.8是9.8）。或者有没有可能用户想比较的是9.11和9.8的某种其他属性，比如百分比、分数等？\n",
      "\n",
      "不过根据常规的数学比较，9.8等于9.80，而9.80显然大于9.11，因为9.80的十分位是8，而9.11的十分位是1，所以9.8更大。因此，正确的答案应该是9.8更大。\n",
      "\n",
      "不过，也有可能用户混淆了小数点后的位数，比如9.11是9又11/100，而9.8是9又8/10，即9.8等于9.80，所以显然9.80更大。因此，结论是9.8更大。\n",
      "\n",
      "response.choices[0].message.content: \n",
      " 9.8 更大。\n",
      "\n",
      "**比较过程：**  \n",
      "将两个数统一为相同的小数位数进行比较：  \n",
      "- 9.8 可以写成 **9.80**  \n",
      "- 9.11 保持不变  \n",
      "\n",
      "逐位比较：  \n",
      "1. **整数部分**：9 和 9 相等。  \n",
      "2. **小数部分**：  \n",
      "   - 十分位：8（9.80） > 1（9.11）  \n",
      "\n",
      "因此，**9.80 > 9.11**，即 **9.8 > 9.11**。  \n",
      "\n",
      "**结论：**  \n",
      "9.8 更大。\n"
     ]
    }
   ],
   "source": [
    "from openai import OpenAI\n",
    "\n",
    "# Modify OpenAI's API key and API base to use SGLang's API server.\n",
    "openai_api_key = \"EMPTY\"\n",
    "openai_api_base = f\"http://vlrlabmonkey.xyz:6666/v1\" # Use the correct port\n",
    "\n",
    "client = OpenAI(\n",
    "    api_key=openai_api_key,\n",
    "    base_url=openai_api_base,\n",
    ")\n",
    "\n",
    "model = \"QwQ/Qwen3-32B-250415\" # Use the model loaded by the server\n",
    "messages = [{\"role\": \"user\", \"content\": \"9.11 and 9.8, 谁更大?\"}]\n",
    "\n",
    "response = client.chat.completions.create(\n",
    "    model=model,\n",
    "    messages=messages,\n",
    "    extra_body={\n",
    "        \"chat_template_kwargs\": {\"enable_thinking\": True},\n",
    "        \"separate_reasoning\": True\n",
    "    }\n",
    ")\n",
    "\n",
    "print(\"response.choices[0].message.reasoning_content: \\n\", response.choices[0].message.reasoning_content)\n",
    "print(\"response.choices[0].message.content: \\n\", response.choices[0].message.content)"
   ]
  },
  {
   "cell_type": "code",
   "execution_count": 1,
   "id": "18e2bd90",
   "metadata": {},
   "outputs": [
    {
     "name": "stdout",
     "output_type": "stream",
     "text": [
      "<think>让我想想。从图像上看，这个甲骨文由两个相互交叉的竖线组成，形状看起来像是两个交叉的棍子或者箭杆。根据我对古代文字的理解，甲骨文中有很多符号是用来描绘工具或武器的。这个形状似乎可以表示某种武器或者工具的交叉状态。让我想一想，有没有类似的象形文字描述武器的交叉形状呢？嗯，我记得在古代文献中，弓箭是交叉的，而箭矢通常也用交叉形状表示。这个符号是否可能与武器或者箭矢有关呢？让我仔细观察一下。这个符号看起来更像是箭矢的交叉形状，而不是武器的整体形状。箭矢通常是分开的，交叉放置，而武器通常是统一的整体。因此，这个符号更可能代表箭矢。再想想，有没有哪个汉字也包含“箭矢”的意思呢？嗯，我想到“双矢”这个词，表示两个箭矢。再看看图像，它确实是两个箭矢的形状。所以，这个符号很可能就是表示箭矢的意思。因此，我推测这个甲骨文代表“矢”字，因为它代表箭矢的意思。此外，考虑到“矢”本身也是一种象形文字，表示箭矢本身，而这个符号更像是表示箭矢的交叉放置，所以“矢矢”也是一个可能的答案，因为它也包含箭矢的意思，而且“矢矢”也可以理解为箭矢的重复或强调。因此，我认为这个甲骨文最有可能的答案是矢矢。</think>;<answer>这个甲骨文是矢矢。推理过程是根据图像形状推测其含义，结合古代文字符号含义以及与现代汉字的关系进行分析。从图像上看，这个符号由两个交叉的竖线组成，形状类似于箭矢的交叉放置。结合古代文献和文字符号的象形特点，可以推测这个符号代表箭矢。进一步分析，箭矢本身可以单独表示为矢，而这个符号强调了箭矢的交叉状态，因此“矢矢”也是一个合理的答案，因为它包含了箭矢的意思，并且“矢矢”也可以理解为箭矢的重复或强调。</answer>;<prediction>矢矢</prediction>;<another>矢矢</another>\n"
     ]
    }
   ],
   "source": [
    "import base64\n",
    "from openai import OpenAI\n",
    "\n",
    "# 读取本地图片并编码为 base64\n",
    "img_path = \"测试图片.jpg\"\n",
    "with open(img_path, \"rb\") as f:\n",
    "    img_bytes = f.read()\n",
    "img_base64 = base64.b64encode(img_bytes).decode(\"utf-8\")\n",
    "data_url = f\"data:image/png;base64,{img_base64}\"\n",
    "\n",
    "# 创建 OpenAI API 客户端（兼容 SGLang）\n",
    "client = OpenAI(base_url=\"http://vlrlabmonkey.xyz:6667/v1\", api_key=\"EMPTY\")\n",
    "\n",
    "response = client.chat.completions.create(\n",
    "    model=\"Qwen/Qwen2.5-VL-7B-Instruct\",\n",
    "    messages=[\n",
    "        {\n",
    "            \"role\": \"system\",\n",
    "            \"content\": \"You are an expert in paleographies. If it is a task to explain or infer a single oracle bone script, please provide a detailed reasoning process and output in the specified format: <think>thinking process</think>;<answer>answer</answer>;<prediction>deciphered character</prediction>;<another>other possible characters</another>\",\n",
    "        },\n",
    "        {\n",
    "            \"role\": \"user\",\n",
    "            \"content\": [\n",
    "                {\n",
    "                    \"type\": \"text\",\n",
    "                    \"text\": \"分析这个甲骨文图片<image>，预测其对应的现代汉字，并给出详细的推理过程。\",\n",
    "                },\n",
    "                {\n",
    "                    \"type\": \"image_url\",\n",
    "                    \"image_url\": {\n",
    "                        \"url\": data_url  # 这里传入 base64 编码的图片\n",
    "                    },\n",
    "                },\n",
    "            ],\n",
    "        }\n",
    "    ],\n",
    "    max_tokens=2048,\n",
    "    top_p=0.8,\n",
    "    extra_body={'top_k': 20, \"repetition_penalty\": 1.05},\n",
    ")\n",
    "\n",
    "print(response.choices[0].message.content)"
   ]
  },
  {
   "cell_type": "code",
   "execution_count": 3,
   "id": "3a1183c3",
   "metadata": {},
   "outputs": [
    {
     "ename": "JSONDecodeError",
     "evalue": "Expecting value: line 1 column 1 (char 0)",
     "output_type": "error",
     "traceback": [
      "\u001b[1;31m---------------------------------------------------------------------------\u001b[0m",
      "\u001b[1;31mJSONDecodeError\u001b[0m                           Traceback (most recent call last)",
      "Cell \u001b[1;32mIn[3], line 9\u001b[0m\n\u001b[0;32m      1\u001b[0m \u001b[38;5;28;01mimport\u001b[39;00m \u001b[38;5;21;01msubprocess\u001b[39;00m\u001b[38;5;241m,\u001b[39m \u001b[38;5;21;01mjson\u001b[39;00m\n\u001b[0;32m      3\u001b[0m curl_command \u001b[38;5;241m=\u001b[39m \u001b[38;5;124mf\u001b[39m\u001b[38;5;124m\"\"\"\u001b[39m\n\u001b[0;32m      4\u001b[0m \u001b[38;5;124mcurl -s http://vlrlabmonkey.xyz:6666/v1/chat/completions \u001b[39m\u001b[38;5;130;01m\\\u001b[39;00m\n\u001b[0;32m      5\u001b[0m \u001b[38;5;124m  -H \u001b[39m\u001b[38;5;124m\"\u001b[39m\u001b[38;5;124mContent-Type: application/json\u001b[39m\u001b[38;5;124m\"\u001b[39m\u001b[38;5;124m \u001b[39m\u001b[38;5;130;01m\\\u001b[39;00m\n\u001b[0;32m      6\u001b[0m \u001b[38;5;124m  -d \u001b[39m\u001b[38;5;124m'\u001b[39m\u001b[38;5;130;01m{{\u001b[39;00m\u001b[38;5;124m\"\u001b[39m\u001b[38;5;124mmodel\u001b[39m\u001b[38;5;124m\"\u001b[39m\u001b[38;5;124m: \u001b[39m\u001b[38;5;124m\"\u001b[39m\u001b[38;5;124mQwQ/Qwen3-32B-250415\u001b[39m\u001b[38;5;124m\"\u001b[39m\u001b[38;5;124m, \u001b[39m\u001b[38;5;124m\"\u001b[39m\u001b[38;5;124mmessages\u001b[39m\u001b[38;5;124m\"\u001b[39m\u001b[38;5;124m: [\u001b[39m\u001b[38;5;130;01m{{\u001b[39;00m\u001b[38;5;124m\"\u001b[39m\u001b[38;5;124mrole\u001b[39m\u001b[38;5;124m\"\u001b[39m\u001b[38;5;124m: \u001b[39m\u001b[38;5;124m\"\u001b[39m\u001b[38;5;124muser\u001b[39m\u001b[38;5;124m\"\u001b[39m\u001b[38;5;124m, \u001b[39m\u001b[38;5;124m\"\u001b[39m\u001b[38;5;124mcontent\u001b[39m\u001b[38;5;124m\"\u001b[39m\u001b[38;5;124m: \u001b[39m\u001b[38;5;124m\"\u001b[39m\u001b[38;5;124mWhat is the capital of France?\u001b[39m\u001b[38;5;124m\"\u001b[39m\u001b[38;5;130;01m}}\u001b[39;00m\u001b[38;5;124m]\u001b[39m\u001b[38;5;130;01m}}\u001b[39;00m\u001b[38;5;124m'\u001b[39m\n\u001b[0;32m      7\u001b[0m \u001b[38;5;124m\"\"\"\u001b[39m\n\u001b[1;32m----> 9\u001b[0m response \u001b[38;5;241m=\u001b[39m \u001b[43mjson\u001b[49m\u001b[38;5;241;43m.\u001b[39;49m\u001b[43mloads\u001b[49m\u001b[43m(\u001b[49m\u001b[43msubprocess\u001b[49m\u001b[38;5;241;43m.\u001b[39;49m\u001b[43mcheck_output\u001b[49m\u001b[43m(\u001b[49m\u001b[43mcurl_command\u001b[49m\u001b[43m,\u001b[49m\u001b[43m \u001b[49m\u001b[43mshell\u001b[49m\u001b[38;5;241;43m=\u001b[39;49m\u001b[38;5;28;43;01mTrue\u001b[39;49;00m\u001b[43m)\u001b[49m\u001b[43m)\u001b[49m\n\u001b[0;32m     10\u001b[0m \u001b[38;5;28mprint\u001b[39m(response)\n",
      "File \u001b[1;32me:\\Anaconda\\anaconda\\envs\\pytorch\\Lib\\json\\__init__.py:346\u001b[0m, in \u001b[0;36mloads\u001b[1;34m(s, cls, object_hook, parse_float, parse_int, parse_constant, object_pairs_hook, **kw)\u001b[0m\n\u001b[0;32m    341\u001b[0m     s \u001b[38;5;241m=\u001b[39m s\u001b[38;5;241m.\u001b[39mdecode(detect_encoding(s), \u001b[38;5;124m'\u001b[39m\u001b[38;5;124msurrogatepass\u001b[39m\u001b[38;5;124m'\u001b[39m)\n\u001b[0;32m    343\u001b[0m \u001b[38;5;28;01mif\u001b[39;00m (\u001b[38;5;28mcls\u001b[39m \u001b[38;5;129;01mis\u001b[39;00m \u001b[38;5;28;01mNone\u001b[39;00m \u001b[38;5;129;01mand\u001b[39;00m object_hook \u001b[38;5;129;01mis\u001b[39;00m \u001b[38;5;28;01mNone\u001b[39;00m \u001b[38;5;129;01mand\u001b[39;00m\n\u001b[0;32m    344\u001b[0m         parse_int \u001b[38;5;129;01mis\u001b[39;00m \u001b[38;5;28;01mNone\u001b[39;00m \u001b[38;5;129;01mand\u001b[39;00m parse_float \u001b[38;5;129;01mis\u001b[39;00m \u001b[38;5;28;01mNone\u001b[39;00m \u001b[38;5;129;01mand\u001b[39;00m\n\u001b[0;32m    345\u001b[0m         parse_constant \u001b[38;5;129;01mis\u001b[39;00m \u001b[38;5;28;01mNone\u001b[39;00m \u001b[38;5;129;01mand\u001b[39;00m object_pairs_hook \u001b[38;5;129;01mis\u001b[39;00m \u001b[38;5;28;01mNone\u001b[39;00m \u001b[38;5;129;01mand\u001b[39;00m \u001b[38;5;129;01mnot\u001b[39;00m kw):\n\u001b[1;32m--> 346\u001b[0m     \u001b[38;5;28;01mreturn\u001b[39;00m \u001b[43m_default_decoder\u001b[49m\u001b[38;5;241;43m.\u001b[39;49m\u001b[43mdecode\u001b[49m\u001b[43m(\u001b[49m\u001b[43ms\u001b[49m\u001b[43m)\u001b[49m\n\u001b[0;32m    347\u001b[0m \u001b[38;5;28;01mif\u001b[39;00m \u001b[38;5;28mcls\u001b[39m \u001b[38;5;129;01mis\u001b[39;00m \u001b[38;5;28;01mNone\u001b[39;00m:\n\u001b[0;32m    348\u001b[0m     \u001b[38;5;28mcls\u001b[39m \u001b[38;5;241m=\u001b[39m JSONDecoder\n",
      "File \u001b[1;32me:\\Anaconda\\anaconda\\envs\\pytorch\\Lib\\json\\decoder.py:337\u001b[0m, in \u001b[0;36mJSONDecoder.decode\u001b[1;34m(self, s, _w)\u001b[0m\n\u001b[0;32m    332\u001b[0m \u001b[38;5;28;01mdef\u001b[39;00m \u001b[38;5;21mdecode\u001b[39m(\u001b[38;5;28mself\u001b[39m, s, _w\u001b[38;5;241m=\u001b[39mWHITESPACE\u001b[38;5;241m.\u001b[39mmatch):\n\u001b[0;32m    333\u001b[0m \u001b[38;5;250m    \u001b[39m\u001b[38;5;124;03m\"\"\"Return the Python representation of ``s`` (a ``str`` instance\u001b[39;00m\n\u001b[0;32m    334\u001b[0m \u001b[38;5;124;03m    containing a JSON document).\u001b[39;00m\n\u001b[0;32m    335\u001b[0m \n\u001b[0;32m    336\u001b[0m \u001b[38;5;124;03m    \"\"\"\u001b[39;00m\n\u001b[1;32m--> 337\u001b[0m     obj, end \u001b[38;5;241m=\u001b[39m \u001b[38;5;28;43mself\u001b[39;49m\u001b[38;5;241;43m.\u001b[39;49m\u001b[43mraw_decode\u001b[49m\u001b[43m(\u001b[49m\u001b[43ms\u001b[49m\u001b[43m,\u001b[49m\u001b[43m \u001b[49m\u001b[43midx\u001b[49m\u001b[38;5;241;43m=\u001b[39;49m\u001b[43m_w\u001b[49m\u001b[43m(\u001b[49m\u001b[43ms\u001b[49m\u001b[43m,\u001b[49m\u001b[43m \u001b[49m\u001b[38;5;241;43m0\u001b[39;49m\u001b[43m)\u001b[49m\u001b[38;5;241;43m.\u001b[39;49m\u001b[43mend\u001b[49m\u001b[43m(\u001b[49m\u001b[43m)\u001b[49m\u001b[43m)\u001b[49m\n\u001b[0;32m    338\u001b[0m     end \u001b[38;5;241m=\u001b[39m _w(s, end)\u001b[38;5;241m.\u001b[39mend()\n\u001b[0;32m    339\u001b[0m     \u001b[38;5;28;01mif\u001b[39;00m end \u001b[38;5;241m!=\u001b[39m \u001b[38;5;28mlen\u001b[39m(s):\n",
      "File \u001b[1;32me:\\Anaconda\\anaconda\\envs\\pytorch\\Lib\\json\\decoder.py:355\u001b[0m, in \u001b[0;36mJSONDecoder.raw_decode\u001b[1;34m(self, s, idx)\u001b[0m\n\u001b[0;32m    353\u001b[0m     obj, end \u001b[38;5;241m=\u001b[39m \u001b[38;5;28mself\u001b[39m\u001b[38;5;241m.\u001b[39mscan_once(s, idx)\n\u001b[0;32m    354\u001b[0m \u001b[38;5;28;01mexcept\u001b[39;00m \u001b[38;5;167;01mStopIteration\u001b[39;00m \u001b[38;5;28;01mas\u001b[39;00m err:\n\u001b[1;32m--> 355\u001b[0m     \u001b[38;5;28;01mraise\u001b[39;00m JSONDecodeError(\u001b[38;5;124m\"\u001b[39m\u001b[38;5;124mExpecting value\u001b[39m\u001b[38;5;124m\"\u001b[39m, s, err\u001b[38;5;241m.\u001b[39mvalue) \u001b[38;5;28;01mfrom\u001b[39;00m \u001b[38;5;28;01mNone\u001b[39;00m\n\u001b[0;32m    356\u001b[0m \u001b[38;5;28;01mreturn\u001b[39;00m obj, end\n",
      "\u001b[1;31mJSONDecodeError\u001b[0m: Expecting value: line 1 column 1 (char 0)"
     ]
    }
   ],
   "source": [
    "import subprocess, json\n",
    "\n",
    "curl_command = f\"\"\"\n",
    "curl -s http://vlrlabmonkey.xyz:6666/v1/chat/completions \\\n",
    "  -H \"Content-Type: application/json\" \\\n",
    "  -d '{{\"model\": \"QwQ/Qwen3-32B-250415\", \"messages\": [{{\"role\": \"user\", \"content\": \"What is the capital of France?\"}}]}}'\n",
    "\"\"\"\n",
    "\n",
    "response = json.loads(subprocess.check_output(curl_command, shell=True))\n",
    "print(response)"
   ]
  },
  {
   "cell_type": "code",
   "execution_count": 4,
   "id": "8f9b3845",
   "metadata": {},
   "outputs": [
    {
     "name": "stdout",
     "output_type": "stream",
     "text": [
      "{'id': '35331bd3a1144439b7e467bd815673b4', 'object': 'chat.completion', 'created': 1747048621, 'model': 'QwQ/Qwen3-32B-250415', 'choices': [{'index': 0, 'message': {'role': 'assistant', 'content': 'The capital of France is **Paris**. It is a major global city known for its cultural landmarks, such as the Eiffel Tower, Louvre Museum, and Notre-Dame Cathedral, and serves as the political, economic, and cultural heart of the country.', 'reasoning_content': \"\\nOkay, so the user is asking for the capital of France. Let me think about this. I know that France is a country in Europe, and I remember from school that Paris is the capital. But wait, maybe I should double-check to be sure. Let me recall some facts. Paris is a major city known for landmarks like the Eiffel Tower and the Louvre Museum. It's also the political and cultural center of France. I don't think there's any confusion with other countries; for example, Germany's capital is Berlin, and Spain's is Madrid. France's capital is definitely Paris. I think that's correct. No, I can't think of any other city that's commonly mistaken for the capital of France. Yeah, Paris it is.\\n\", 'tool_calls': None}, 'logprobs': None, 'finish_reason': 'stop', 'matched_stop': 151645}], 'usage': {'prompt_tokens': 15, 'total_tokens': 229, 'completion_tokens': 214, 'prompt_tokens_details': None}}\n"
     ]
    }
   ],
   "source": [
    "import requests\n",
    "\n",
    "url = \"http://vlrlabmonkey.xyz:6666/v1/chat/completions\"\n",
    "payload = {\n",
    "    \"model\": \"QwQ/Qwen3-32B-250415\",\n",
    "    \"messages\": [\n",
    "        {\"role\": \"user\", \"content\": \"What is the capital of France?\"}\n",
    "    ]\n",
    "}\n",
    "\n",
    "resp = requests.post(url, json=payload)\n",
    "resp.raise_for_status()          # 如果响应不是 2xx，会抛出异常\n",
    "data = resp.json()               # 直接解析 JSON\n",
    "print(data)\n"
   ]
  }
 ],
 "metadata": {
  "kernelspec": {
   "display_name": "pytorch",
   "language": "python",
   "name": "python3"
  },
  "language_info": {
   "codemirror_mode": {
    "name": "ipython",
    "version": 3
   },
   "file_extension": ".py",
   "mimetype": "text/x-python",
   "name": "python",
   "nbconvert_exporter": "python",
   "pygments_lexer": "ipython3",
   "version": "3.11.8"
  }
 },
 "nbformat": 4,
 "nbformat_minor": 5
}
